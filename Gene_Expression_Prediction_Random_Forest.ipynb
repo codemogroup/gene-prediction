{
 "cells": [
  {
   "cell_type": "code",
   "execution_count": 1,
   "metadata": {},
   "outputs": [],
   "source": [
    "import pandas as pd\n",
    "from sklearn.ensemble import RandomForestClassifier\n",
    "from sklearn.model_selection import cross_val_score\n",
    "import  numpy  as  np\n",
    "import matplotlib.pyplot as plt\n",
    "import seaborn as sns\n",
    "from sklearn.model_selection import GridSearchCV"
   ]
  },
  {
   "cell_type": "code",
   "execution_count": 2,
   "metadata": {},
   "outputs": [],
   "source": [
    "file_name_x= \"train/x_train.csv\"\n",
    "data_x = pd.read_csv(file_name_x)\n",
    "data_x = data_x.groupby(['GeneId']).mean()\n",
    "data_x = pd.DataFrame(data_x).reset_index()\n",
    "fea = ['H3K4me3', 'H3K4me1', 'H3K36me3','H3K9me3','H3K27me3',]\n",
    "data_x = data_x[fea]"
   ]
  },
  {
   "cell_type": "code",
   "execution_count": 3,
   "metadata": {},
   "outputs": [],
   "source": [
    "file_name_y= \"train/y_train.csv\"\n",
    "data_y = pd.read_csv(file_name_y)\n",
    "data_y = data_y['Prediction']"
   ]
  },
  {
   "cell_type": "code",
   "execution_count": 4,
   "metadata": {},
   "outputs": [],
   "source": [
    "fea = ['H3K4me3', 'H3K4me1', 'H3K36me3','H3K9me3',]\n",
    "data_x = data_x[fea]"
   ]
  },
  {
   "cell_type": "code",
   "execution_count": 6,
   "metadata": {},
   "outputs": [],
   "source": [
    "forestModel = RandomForestClassifier()"
   ]
  },
  {
   "cell_type": "code",
   "execution_count": 7,
   "metadata": {},
   "outputs": [
    {
     "data": {
      "text/plain": [
       "GridSearchCV(cv=3, error_score='raise',\n",
       "       estimator=RandomForestClassifier(bootstrap=True, class_weight=None, criterion='gini',\n",
       "            max_depth=None, max_features='auto', max_leaf_nodes=None,\n",
       "            min_impurity_decrease=0.0, min_impurity_split=None,\n",
       "            min_samples_leaf=1, min_samples_split=2,\n",
       "            min_weight_fraction_leaf=0.0, n_estimators=10, n_jobs=1,\n",
       "            oob_score=False, random_state=None, verbose=0,\n",
       "            warm_start=False),\n",
       "       fit_params=None, iid=True, n_jobs=1,\n",
       "       param_grid=[{'max_depth': [1, 2, 3, 4, 5, 6, 10, 20, 30, 50, 100], 'n_estimators': [1, 2, 3, 4, 5, 10, 20, 30, 40, 50, 60, 70, 80, 100], 'min_samples_leaf': [0.01, 0.02, 0.03, 0.005]}],\n",
       "       pre_dispatch='2*n_jobs', refit=True, return_train_score='warn',\n",
       "       scoring=None, verbose=0)"
      ]
     },
     "execution_count": 7,
     "metadata": {},
     "output_type": "execute_result"
    }
   ],
   "source": [
    "parameters = [{'max_depth' : [1,2,3,4,5,6,10,20,30,50,100], 'n_estimators' : [1,2,3,4,5,10,20,30,40,50,60,70,80,100],\n",
    "               'min_samples_leaf' : [0.01,0.02,0.03,0.005]}]\n",
    "grid = GridSearchCV(forestModel,parameters,cv=3)\n",
    "grid.fit(data_x, data_y)"
   ]
  },
  {
   "cell_type": "code",
   "execution_count": 8,
   "metadata": {},
   "outputs": [
    {
     "data": {
      "text/plain": [
       "RandomForestClassifier(bootstrap=True, class_weight=None, criterion='gini',\n",
       "            max_depth=50, max_features='auto', max_leaf_nodes=None,\n",
       "            min_impurity_decrease=0.0, min_impurity_split=None,\n",
       "            min_samples_leaf=0.005, min_samples_split=2,\n",
       "            min_weight_fraction_leaf=0.0, n_estimators=70, n_jobs=1,\n",
       "            oob_score=False, random_state=None, verbose=0,\n",
       "            warm_start=False)"
      ]
     },
     "execution_count": 8,
     "metadata": {},
     "output_type": "execute_result"
    }
   ],
   "source": [
    "grid.best_estimator_"
   ]
  },
  {
   "cell_type": "code",
   "execution_count": 9,
   "metadata": {},
   "outputs": [],
   "source": [
    "forestModel = RandomForestClassifier(bootstrap=True, class_weight=None, criterion='gini',\n",
    "            max_depth=50, max_features='auto', max_leaf_nodes=None,\n",
    "            min_impurity_decrease=0.0, min_impurity_split=None,\n",
    "            min_samples_leaf=0.005, min_samples_split=2,\n",
    "            min_weight_fraction_leaf=0.0, n_estimators=70, n_jobs=1,\n",
    "            oob_score=False, random_state=None, verbose=0,\n",
    "            warm_start=False)"
   ]
  },
  {
   "cell_type": "code",
   "execution_count": 11,
   "metadata": {},
   "outputs": [
    {
     "data": {
      "text/plain": [
       "array([0.87741935, 0.86709677, 0.84258065, 0.84258065, 0.87096774,\n",
       "       0.85548387, 0.83741935, 0.87483871, 0.8501292 , 0.8630491 ,\n",
       "       0.8501292 , 0.85271318, 0.82041344, 0.84883721, 0.85271318,\n",
       "       0.86692506, 0.81653747, 0.83570505, 0.86804657, 0.8072445 ])"
      ]
     },
     "execution_count": 11,
     "metadata": {},
     "output_type": "execute_result"
    }
   ],
   "source": [
    "cross_validation_scores = cross_val_score(forestModel, data_x,data_y, cv=20 )\n",
    "cross_validation_scores"
   ]
  },
  {
   "cell_type": "code",
   "execution_count": 12,
   "metadata": {},
   "outputs": [
    {
     "name": "stdout",
     "output_type": "stream",
     "text": [
      "Mean of cross validation scores: 20 folds\n"
     ]
    },
    {
     "data": {
      "text/plain": [
       "0.8500415122107393"
      ]
     },
     "execution_count": 12,
     "metadata": {},
     "output_type": "execute_result"
    }
   ],
   "source": [
    "print(\"Mean of cross validation scores: 20 folds\")\n",
    "np.mean(cross_validation_scores)"
   ]
  },
  {
   "cell_type": "code",
   "execution_count": 13,
   "metadata": {},
   "outputs": [
    {
     "name": "stdout",
     "output_type": "stream",
     "text": [
      "Mean of cross validation scores: 10 folds\n"
     ]
    },
    {
     "data": {
      "text/plain": [
       "0.8492694429786584"
      ]
     },
     "execution_count": 13,
     "metadata": {},
     "output_type": "execute_result"
    }
   ],
   "source": [
    "cross_validation_scores = cross_val_score(forestModel, data_x,data_y, cv=10 )\n",
    "print(\"Mean of cross validation scores: 10 folds\")\n",
    "np.mean(cross_validation_scores)"
   ]
  },
  {
   "cell_type": "code",
   "execution_count": 14,
   "metadata": {},
   "outputs": [
    {
     "name": "stdout",
     "output_type": "stream",
     "text": [
      "Mean of cross validation scores: 30 folds\n"
     ]
    },
    {
     "data": {
      "text/plain": [
       "0.8510051335547701"
      ]
     },
     "execution_count": 14,
     "metadata": {},
     "output_type": "execute_result"
    }
   ],
   "source": [
    "cross_validation_scores = cross_val_score(forestModel, data_x,data_y, cv=30 )\n",
    "print(\"Mean of cross validation scores: 30 folds\")\n",
    "np.mean(cross_validation_scores)"
   ]
  },
  {
   "cell_type": "code",
   "execution_count": 15,
   "metadata": {},
   "outputs": [
    {
     "name": "stdout",
     "output_type": "stream",
     "text": [
      "Mean of cross validation scores: 50 folds\n"
     ]
    },
    {
     "data": {
      "text/plain": [
       "0.8508057369601039"
      ]
     },
     "execution_count": 15,
     "metadata": {},
     "output_type": "execute_result"
    }
   ],
   "source": [
    "cross_validation_scores = cross_val_score(forestModel, data_x,data_y, cv=50 )\n",
    "print(\"Mean of cross validation scores: 50 folds\")\n",
    "np.mean(cross_validation_scores)"
   ]
  },
  {
   "cell_type": "code",
   "execution_count": 16,
   "metadata": {},
   "outputs": [
    {
     "name": "stdout",
     "output_type": "stream",
     "text": [
      "Mean of cross validation scores: 100 folds\n"
     ]
    },
    {
     "data": {
      "text/plain": [
       "0.8508492636395861"
      ]
     },
     "execution_count": 16,
     "metadata": {},
     "output_type": "execute_result"
    }
   ],
   "source": [
    "cross_validation_scores = cross_val_score(forestModel, data_x,data_y, cv=100 )\n",
    "print(\"Mean of cross validation scores: 100 folds\")\n",
    "np.mean(cross_validation_scores)"
   ]
  },
  {
   "cell_type": "code",
   "execution_count": null,
   "metadata": {},
   "outputs": [],
   "source": []
  }
 ],
 "metadata": {
  "kernelspec": {
   "display_name": "Python 3",
   "language": "python",
   "name": "python3"
  },
  "language_info": {
   "codemirror_mode": {
    "name": "ipython",
    "version": 3
   },
   "file_extension": ".py",
   "mimetype": "text/x-python",
   "name": "python",
   "nbconvert_exporter": "python",
   "pygments_lexer": "ipython3",
   "version": "3.6.6"
  }
 },
 "nbformat": 4,
 "nbformat_minor": 2
}
